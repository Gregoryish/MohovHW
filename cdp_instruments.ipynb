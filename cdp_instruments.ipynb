{
 "cells": [
  {
   "cell_type": "code",
   "execution_count": 1,
   "metadata": {},
   "outputs": [],
   "source": [
    "import gron\n",
    "import Oil\n",
    "import Gas"
   ]
  },
  {
   "cell_type": "code",
   "execution_count": 2,
   "metadata": {},
   "outputs": [],
   "source": [
    "#функция под конкретные исходные данные, для получения значений объем газа, плотность газа при p,T\n",
    "def get_gas_parametrs (p,t, q_gas_std,relative_density_gas, y_a, y_c):\n",
    "    \"\"\"\n",
    "    p - МПа,\n",
    "    t - К,\n",
    "    q_gas_std - суммарный расход газа в стандартных условиях выделившегося при p, t\n",
    "    relative_density_gas - относительная плотность газа\n",
    "    y_a, y_c - содержание азота, ув части в д.ед.\n",
    "    \n",
    "    volume_gas_p_t, density_gas_p_t - расход газа при [p,t], плотность газа при [p,t]\n",
    "    \"\"\"\n",
    "    \n",
    "    p=p*10**6\n",
    "    relative_density_hydrocarbon = Gas._relative_density_hydrocarbon(relative_density_gas, y_a)\n",
    "    p_priv = Gas._Lyapkov_pressure_priv(p, relative_density_hydrocarbon)\n",
    "    t_priv = Gas._Lyapkov_temperature_priv(t, relative_density_hydrocarbon)\n",
    "    z_c = Gas._z_y(p_priv,t_priv)\n",
    "    z_a = Gas._z_a(p, t)\n",
    "    z_supercompress = Gas._z_supercompress(z_c, y_c, z_a, y_a)\n",
    "    density_gas_p_t = Gas._density_gas_p_T(p,t,z_supercompress,density_gas_std,T_0=294)\n",
    "    volume_gas_p_t = Gas._Volume_gas_p_T(p,t,z_supercompress,q_gas_std,T_0=294)\n",
    "    \n",
    "    return {'q_gas_p_t':round(volume_gas_p_t,2),'density_gas_p_t':round(density_gas_p_t,3)}"
   ]
  },
  {
   "cell_type": "code",
   "execution_count": 3,
   "metadata": {},
   "outputs": [],
   "source": [
    "def get_oil_parametrs(p, t, p_bbp, t_reservoir, gas_saturation, y_a, y_c1, density_oil_without_gas, relative_density_gas):\n",
    "    \n",
    "    #2\n",
    "    pressure_bbp_T = Oil._pressure_bbp_T (p_bbp, t_reservoir, t, gas_saturation, y_a, y_c1)\n",
    "\n",
    "    #3\n",
    "    if p < pressure_bbp_T:\n",
    "        R = Oil._R(p, pressure_bbp_T)\n",
    "        m = Oil._m (t, density_oil_without_gas, relative_density_gas)\n",
    "        D = Oil._D (t, density_oil_without_gas, relative_density_gas)\n",
    "        volume_separate_gas = Oil._volume_separate_gas(gas_saturation, R,m,D)\n",
    "    else:\n",
    "        volume_separate_gas = 0\n",
    "\n",
    "\n",
    "    #4\n",
    "    if volume_separate_gas == 0:\n",
    "        volume_dissolved_gas = gas_saturation\n",
    "    else:\n",
    "        volume_dissolved_gas = Oil._volume_dissolved_gas(gas_saturation, m, volume_separate_gas)\n",
    "        if volume_dissolved_gas>gas_saturation:\n",
    "            volume_dissolved_gas = gas_saturation\n",
    "\n",
    "    #5\n",
    "    a = Oil._a(t)\n",
    "    u = Oil._u(density_oil_without_gas, gas_saturation)\n",
    "\n",
    "    if volume_separate_gas == 0:\n",
    "        relative_density_separate_gas = 0\n",
    "    else: \n",
    "        relative_density_separate_gas = Oil._relative_density_separate_gas(relative_density_gas, a, u, R)\n",
    "\n",
    "    #6\n",
    "    m = Oil._m (t, density_oil_without_gas, relative_density_gas)\n",
    "    relative_density_dissolved_gas = Oil._relative_density_dissolved_gas (gas_saturation, a, m, relative_density_gas, relative_density_separate_gas, volume_separate_gas, volume_dissolved_gas)\n",
    "\n",
    "    #7\n",
    "    alpha_n = Oil._alpha_n(density_oil_without_gas)\n",
    "    lambda_T = Oil._lambda_T(density_oil_without_gas, relative_density_dissolved_gas, a, volume_dissolved_gas)\n",
    "    b_oil = Oil._b_oil(p ,t ,density_oil_without_gas, volume_dissolved_gas, lambda_T, m, alpha_n)\n",
    "\n",
    "\n",
    "\n",
    "    #8\n",
    "    density_oil_with_gas = Oil._density_oil_with_gas(\n",
    "        density_oil_without_gas,\n",
    "        relative_density_dissolved_gas,\n",
    "        volume_dissolved_gas,\n",
    "        a,\n",
    "        m,\n",
    "        b_oil)\n",
    "\n",
    "    #9 \n",
    "    viscosity_without_gas, a_viscosity, b_viscosity = Oil._Dunyshkin_viscosity_without_gas (density_oil_without_gas),Oil._a_viscosity(t), Oil._b_viscosity (density_oil_without_gas, t)\n",
    "\n",
    "    viscosity_without_gas_T = Oil._viscosity_without_gas_T(density_oil_without_gas, t, a_viscosity, b_viscosity, viscosity_without_gas)\n",
    "\n",
    "    #10 \n",
    "    volume_dissolved_prived = Oil._volume_dissolved_prived(volume_dissolved_gas, density_oil_without_gas, alpha_n)\n",
    "    A_visc_dissolved = Oil._A_visc_dissolved(volume_dissolved_prived)\n",
    "    B_visc_dissolved = Oil._B_visc_dissolved (volume_dissolved_prived)\n",
    "    viscosity_oil_dissolved_gas = round(Oil._viscosity_dissolved_gas(\n",
    "        A_visc_dissolved,\n",
    "        B_visc_dissolved,\n",
    "        viscosity_without_gas_T),4)\n",
    "\n",
    "    #11\n",
    "    sigma_oil_gas = Oil._sigma_oil_gas(p,t)\n",
    "    return {'viscosity_oil_dissolved_gas':viscosity_oil_dissolved_gas, \n",
    "            'density_oil_with_gas':density_oil_with_gas, \n",
    "            'b_oil':b_oil, \n",
    "            'relative_density_separate_gas':relative_density_separate_gas, \n",
    "            'volume_separate_gas':volume_separate_gas}"
   ]
  },
  {
   "cell_type": "markdown",
   "metadata": {},
   "source": [
    "_____________________________________\n",
    "Исходные свойства <b>нефти, газа</b> информация по месторождению"
   ]
  },
  {
   "cell_type": "code",
   "execution_count": 4,
   "metadata": {},
   "outputs": [],
   "source": [
    "#газосодрежание пластовой нефти, газовый фактор, м3/м3\n",
    "gas_saturation = 56 \n",
    "#давление насыщения, МПа\n",
    "p_bbp = 9 \n",
    "#плотность дегазированной нефти, кг/м3\n",
    "density_oil_without_gas = 860\n",
    "#плотность нефти в пластовых условиях, кг/м3\n",
    "density_oil_reservoir = 800\n",
    "\n",
    "#плотность воды, кг/м3\n",
    "density_water = 1000\n",
    "\n",
    "#плотность газа стандартные условия, кг/м3\n",
    "density_gas_std = 1.45\n",
    "#содержание в газе метана, %\n",
    "y_c1 = 0.4\n",
    "#содержание в газе азота, %\n",
    "y_a = 0.08\n",
    "#содержание в газе УВ части, %\n",
    "y_c = 1-y_a-0.1\n",
    "#пластовая температура, К\n",
    "t_reservoir = 40+273"
   ]
  },
  {
   "cell_type": "markdown",
   "metadata": {},
   "source": [
    "1. Исходные даные о тех.режиме скважины\n",
    "2. Данные исследования КРД"
   ]
  },
  {
   "cell_type": "markdown",
   "metadata": {},
   "source": [
    "Исследование - 5РМ\n",
    "скважина 2Ф(D) "
   ]
  },
  {
   "cell_type": "code",
   "execution_count": 5,
   "metadata": {},
   "outputs": [],
   "source": [
    "#дебит по жидкости м3/сут\n",
    "q_liquid = 40\n",
    "#обводнённость, д.ед\n",
    "B = 0\n",
    "#диаметр экспл. колонны внутренний, м\n",
    "D_casing_in = 0.133\n",
    "#диаметр нкт колонны внутренний, м\n",
    "D_tubing_in = 0.0503\n",
    "#давление на устье в НКТ, МПа\n",
    "p_head_tubing = 0.9\n",
    "#Глубина скважины, м\n",
    "h_well = 1605\n",
    "#Глубина спуска труб, м\n",
    "h_tubing = 1205\n"
   ]
  },
  {
   "cell_type": "markdown",
   "metadata": {},
   "source": [
    "дополнительные параметры"
   ]
  },
  {
   "cell_type": "code",
   "execution_count": 6,
   "metadata": {},
   "outputs": [],
   "source": [
    "#давление на забое , МПа\n",
    "p_wf = 11.435\n",
    "#пластовое давление, МПа\n",
    "p_reservoir = round((h_well*9.81*1000/10**6 + 2),2)\n",
    "#температура на устье, К\n",
    "t_head_tubing = 294\n",
    "# К продуктивности, м3/атм\n",
    "PI = round(q_liquid/(p_reservoir - p_wf),3)\n",
    "#молекулярная масса газа\n",
    "mean_mol_mass = density_gas_std*24.05\n",
    "#относительная плотность газа, кг/м3\n",
    "relative_density_gas = Gas._relative_density(mean_mol_mass)"
   ]
  },
  {
   "cell_type": "code",
   "execution_count": 7,
   "metadata": {},
   "outputs": [],
   "source": [
    "#данные исследований\n",
    "h_test = [105, 305, 505, 705, 905, 1105, 1305, 1405, 1505, 1605]\n",
    "p_test = [1.12, 1.83, 2.957, 4.355, 5.785, 7.3, 8.953, 9.863, 10.176, 11.435]"
   ]
  },
  {
   "cell_type": "markdown",
   "metadata": {},
   "source": [
    "_____________________________________________________________\n",
    "OIL p,T "
   ]
  },
  {
   "cell_type": "code",
   "execution_count": 8,
   "metadata": {},
   "outputs": [],
   "source": [
    "p, t = p_reservoir-10, t_reservoir-10\n",
    "#определение диаметра подъёмника\n",
    "D_tubing = D_tubing_in"
   ]
  },
  {
   "cell_type": "code",
   "execution_count": null,
   "metadata": {},
   "outputs": [],
   "source": []
  },
  {
   "cell_type": "code",
   "execution_count": 9,
   "metadata": {},
   "outputs": [],
   "source": [
    "def get_all_parametrs(p, t, p_bbp, t_reservoir, gas_saturation, y_a, y_c1, y_c, density_oil_without_gas, relative_density_gas, density_water, B, q_liquid, D_tubing):\n",
    "    oil_parametrs = get_oil_parametrs(p, t, p_bbp, t_reservoir, gas_saturation, y_a, y_c1, density_oil_without_gas, relative_density_gas)\n",
    "\n",
    "    viscosity_liquid_p_T = oil_parametrs['viscosity_oil_dissolved_gas']\n",
    "    density_liquid_p_T = oil_parametrs['density_oil_with_gas']*(1-B) + density_water*B\n",
    "    q_liquid_p_T = q_liquid*(1-B)*oil_parametrs['b_oil']+q_liquid*B\n",
    "    #суммарный объём газа выделившегося в ст. условиях, м3\n",
    "    q_gas_std = q_liquid*(1-B)*oil_parametrs['volume_separate_gas']\n",
    "    #относительная плотность газа выделвшиегося при p,t\n",
    "    relative_density_gas_p_t = oil_parametrs['relative_density_separate_gas']\n",
    "\n",
    "    #расчёт параметров газа\n",
    "    gas_parametrs = get_gas_parametrs (p,t, q_gas_std,relative_density_gas_p_t, y_a, y_c)\n",
    "    q_gas_p_T, density_gas_p_T = gas_parametrs['q_gas_p_t'], gas_parametrs['density_gas_p_t']\n",
    "\n",
    "    gron_parametrs = gron.Gron_parametrs(q_liquid_p_T, q_gas_p_T, density_gas_p_T, density_liquid_p_T, viscosity_liquid_p_T, D_tubing).return_dict()\n",
    "\n",
    "    return oil_parametrs, gas_parametrs, gron_parametrs"
   ]
  },
  {
   "cell_type": "code",
   "execution_count": 12,
   "metadata": {},
   "outputs": [],
   "source": [
    "all_parametrs = get_all_parametrs(1, t, p_bbp, t_reservoir, gas_saturation, y_a, y_c1, y_c, density_oil_without_gas, relative_density_gas, density_water, B, q_liquid, D_tubing)"
   ]
  },
  {
   "cell_type": "code",
   "execution_count": 16,
   "metadata": {},
   "outputs": [
    {
     "data": {
      "text/plain": [
       "253.1797753376578"
      ]
     },
     "execution_count": 16,
     "metadata": {},
     "output_type": "execute_result"
    }
   ],
   "source": [
    "1/all_parametrs[2]['gradient']"
   ]
  },
  {
   "cell_type": "code",
   "execution_count": null,
   "metadata": {},
   "outputs": [],
   "source": []
  }
 ],
 "metadata": {
  "kernelspec": {
   "display_name": "Python 3",
   "language": "python",
   "name": "python3"
  },
  "language_info": {
   "codemirror_mode": {
    "name": "ipython",
    "version": 3
   },
   "file_extension": ".py",
   "mimetype": "text/x-python",
   "name": "python",
   "nbconvert_exporter": "python",
   "pygments_lexer": "ipython3",
   "version": "3.7.5"
  }
 },
 "nbformat": 4,
 "nbformat_minor": 2
}
