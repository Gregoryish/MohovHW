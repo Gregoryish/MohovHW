{
 "cells": [
  {
   "cell_type": "code",
   "execution_count": 7,
   "metadata": {},
   "outputs": [],
   "source": [
    "import numpy as np\n",
    "import math\n",
    "\n",
    "import Oil\n",
    "import Gas"
   ]
  },
  {
   "cell_type": "code",
   "execution_count": 8,
   "metadata": {},
   "outputs": [
    {
     "data": {
      "text/plain": [
       "0.001"
      ]
     },
     "execution_count": 8,
     "metadata": {},
     "output_type": "execute_result"
    }
   ],
   "source": [
    "10**-3"
   ]
  },
  {
   "cell_type": "code",
   "execution_count": 9,
   "metadata": {},
   "outputs": [
    {
     "data": {
      "text/plain": [
       "0.36787944117144233"
      ]
     },
     "execution_count": 9,
     "metadata": {},
     "output_type": "execute_result"
    }
   ],
   "source": [
    "np.exp(-1)"
   ]
  },
  {
   "cell_type": "code",
   "execution_count": 10,
   "metadata": {},
   "outputs": [],
   "source": [
    "def coef_1 (relative_viscosity, D_tubing):\n",
    "    \"\"\"\n",
    "    relative_viscosity - относительная вязкость жидкости, ед.\n",
    "    D_tubing - внутренний диаметр трубы НКТ\n",
    "    \"\"\"\n",
    "    D_0 = 0.015\n",
    "    c_1 = 2.2361*np.exp(0.049*relative_viscosity)/(1+1.1002*np.exp(0.049*relative_viscosity))\n",
    "    c_1 = c_1 - 8.17*(10**-3)*(relative_viscosity**(0.6))*(D_tubing/D_0 - 1)\n",
    "    return round(c_1, 4)"
   ]
  },
  {
   "cell_type": "code",
   "execution_count": 11,
   "metadata": {},
   "outputs": [],
   "source": [
    "def coef_2 (relative_viscosity, D_tubing):\n",
    "    \"\"\"\n",
    "    relative_viscosity - относительная вязкость жидкости, ед.\n",
    "    D_tubing - внутренний диаметр трубы НКТ\n",
    "    \"\"\"\n",
    "    \n",
    "    D_0 = 0.015\n",
    "    \n",
    "    if relative_viscosity <=40:\n",
    "        c_2 = (1+0.1082*np.exp(0.049*relative_viscosity))/(1+1.1002*np.exp(0.049*relative_viscosity))\n",
    "        c_2 = c_2 - (0.1006 - 2.52*(10**-3)*(relative_viscosity-1))*(D_tubing/D_0 - 1)\n",
    "    \n",
    "    if relative_viscosity>40:\n",
    "        c_2 = (1+0.1082*np.exp(0.049*relative_viscosity))/(1+1.1002*np.exp(0.049*relative_viscosity))\n",
    "    return round(c_2, 4)"
   ]
  },
  {
   "cell_type": "code",
   "execution_count": null,
   "metadata": {},
   "outputs": [],
   "source": []
  },
  {
   "cell_type": "code",
   "execution_count": null,
   "metadata": {},
   "outputs": [],
   "source": []
  },
  {
   "cell_type": "code",
   "execution_count": null,
   "metadata": {},
   "outputs": [],
   "source": []
  },
  {
   "cell_type": "code",
   "execution_count": null,
   "metadata": {},
   "outputs": [],
   "source": [
    "def func_fi_gas(beta_gas, fruda_fluid, c_1, c_2):\n",
    "    \"\"\"\n",
    "    beta_gas - объемное газосодержание,\n",
    "    fruda_fluid - число фруда, \n",
    "    c_1 - коеф с_1, \n",
    "    c_2 - коеф с_2\n",
    "    \"\"\"\n",
    "    fi = beta_gas/(c_1 + c_2*fruda_fluid**(-0.5))\n",
    "    return fi\n"
   ]
  },
  {
   "cell_type": "code",
   "execution_count": null,
   "metadata": {},
   "outputs": [],
   "source": [
    "def func_velocity_fluid(q_liquid_p_T, q_gas_p_T, D_tubing):\n",
    "    \"\"\"\n",
    "    q_liquid_p_T - расход жидкости при [p,T], м3/сут \n",
    "    q_gas_p_T - расход газа при  [p,T], м3/cут\n",
    "    D_tubing - диаметр трубы, м\n",
    "    \"\"\"\n",
    "    q_liquid_p_T = q_liquid_p_T/86400\n",
    "    q_gas_p_T = q_gas_p_T/86400\n",
    "    velocity_fluid = (q_liquid_p_T + q_gas_p_T)/((np.pi*D_tubing**2)/4)\n",
    "    return velocity_fluid\n",
    "\n",
    "def func_fruda_fluid (velocity_fluid, D_tubing):\n",
    "    \"\"\"\n",
    "    velocity_fluid - скорость ГЖС, м/с, \n",
    "    D_tubing - диаметр трубы, м\n",
    "    \n",
    "    \"\"\"    \n",
    "    g = 9.81\n",
    "    fruda_fluid = velocity_fluid**2/(g*D_tubing)\n",
    "    return fruda_fluid\n",
    "\n",
    "def func_beta_gas (q_gas_p_T, q_liquid_p_T):\n",
    "    \"\"\"\n",
    "    q_gas_p_T, q_liquid_p_T - расход газа, жидкости при p,T условиях\n",
    "    \n",
    "    \"\"\"\n",
    "    \n",
    "    beta_gas = q_gas_p_T/(q_gas_p_T+q_liquid_p_T)\n",
    "    return beta_gas"
   ]
  },
  {
   "cell_type": "code",
   "execution_count": null,
   "metadata": {},
   "outputs": [],
   "source": [
    "def func_relative_viscosity(viscosity_liquid_p_T):\n",
    "    \"\"\"\n",
    "    viscosity_liquid_p_T - вязкость жидкости при [p, T], мПа*с\n",
    "    \n",
    "    relative_density - на выходе относительная вязкость жидкости\n",
    "    \"\"\"\n",
    "    # 1*10**-3 вязкость воды, Па*с\n",
    "    relative_viscosity = viscosity_liquid_p_T*10**-3 / (1*10**-3)\n",
    "    \n",
    "    return relative_viscosity"
   ]
  },
  {
   "cell_type": "code",
   "execution_count": 7,
   "metadata": {},
   "outputs": [],
   "source": [
    "#градиент потерь на трение\n",
    "\n",
    "def func_gradient_friction (labmda_friction, velocity_fluid, density_fluid_p_T, D_tubing):\n",
    "    \"\"\"\n",
    "    labmda_friction - гидравлич. коэф потерь на трение\n",
    "    velocity_fluid - скорость смеси ГЖС, м/c\n",
    "    density_fluid_p_T - плотность ГЖС, кг/м3\n",
    "    D_tubing - внутренний диаметр НКТ, м\n",
    "    \n",
    "    gradient_friction - градиент потерь на трение, МПа/м\n",
    "    \"\"\"\n",
    "    gradient_friction = labmda_friction*density_fluid_p_T*velocity_fluid**2*(10**-6)/(2*D_tubing)\n",
    "    return gradient_friction"
   ]
  },
  {
   "cell_type": "code",
   "execution_count": 8,
   "metadata": {},
   "outputs": [],
   "source": [
    "def func_reinolds_liquid (velocity_fluid, density_liquid_p_T, viscosity_liquid_p_T, D_tubing):\n",
    "    \"\"\"\n",
    "    velocity_fluid - скорость ГЖС, м/с \n",
    "    viscosity_liquid_p_T - вязкость жидкости [p,T], мПа*с\n",
    "    D_tubing - диаметр НКТ, м\n",
    "    \n",
    "    \n",
    "    reinolds_liquid - критерий Рейнольдса потока жидкости, движущегося со скоростью, равной смеси (w ж = w см)\n",
    "    \"\"\"\n",
    "    \n",
    "    reinolds_liquid = velocity_fluid*D_tubing*density_liquid_p_T/(viscosity_liquid_p_T*10**(-3))\n",
    "    \n",
    "    return reinolds_liquid"
   ]
  },
  {
   "cell_type": "code",
   "execution_count": 9,
   "metadata": {},
   "outputs": [],
   "source": [
    "def func_labmda_friction(reinolds_liquid, D_tubing, eps = 0.0015*10**-3):\n",
    "    \"\"\"\n",
    "    reinolds_liquid - число рейнольдса для жидкости со скоростью смеси, \n",
    "    eps = 0.0015*10**-3\n",
    "    \n",
    "    lambda_friction - коэф. гидравлических потерь\n",
    "    \"\"\"\n",
    "    lambda_friction = 0.067*(158/reinolds_liquid+2*(eps/D_tubing))**(1/5)\n",
    "    \n",
    "    return round(lambda_friction,4)"
   ]
  },
  {
   "cell_type": "code",
   "execution_count": 10,
   "metadata": {},
   "outputs": [],
   "source": [
    "def func_gradient_static (density_fluid_p_T, cos_a = 1):\n",
    "    \"\"\"\n",
    "    density_fluid_p_T - плотность ГЖС при [p,T], кг/м3\n",
    "    cos_a - косинус а, где а - угол отклонения траектории скважины от вертикали\n",
    "    \n",
    "    gradient_static - градиент потерь на гидростатику, МПа/м\n",
    "    \"\"\"\n",
    "    gradient_static = density_fluid_p_T*9.81*10**-6*cos_a\n",
    "    \n",
    "    return gradient_static    "
   ]
  },
  {
   "cell_type": "code",
   "execution_count": 11,
   "metadata": {},
   "outputs": [],
   "source": [
    "def func_gradient(gradient_static, gradient_friction):\n",
    "    return gradient_static + gradient_friction"
   ]
  },
  {
   "cell_type": "code",
   "execution_count": 12,
   "metadata": {},
   "outputs": [],
   "source": [
    "def func_density_fluid (density_liquid_p_T, density_gas_p_T, fi_gas):\n",
    "    \"\"\"\n",
    "    density_liquid_p_T - плотность жидкости [p, T], \n",
    "    density_gas_p_T - плотность газа [p, T], \n",
    "    fi_gas - истинное газосодержание\n",
    "    \"\"\"\n",
    "    density_fluid = (1-fi_gas)*density_liquid_p_T+fi_gas*density_gas_p_T\n",
    "    \n",
    "    return round(density_fluid,1)\n",
    "  "
   ]
  },
  {
   "cell_type": "code",
   "execution_count": 13,
   "metadata": {},
   "outputs": [],
   "source": [
    "# def get_gron_parametrs(q_liquid_p_T, q_gas_p_T, density_gas_p_T, density_liquid_p_T, viscosity_liquid_p_T, D_tubing):\n",
    "#     relative_viscosity = func_relative_viscosity(viscosity_liquid_p_T)\n",
    "#     c_1 = coef_1(relative_viscosity, D_tubing)\n",
    "#     c_2 = coef_2(relative_viscosity, D_tubing)\n",
    "#     velocity_fluid = func_velocity_fluid(q_liquid_p_T, q_gas_p_T, D_tubing)\n",
    "#     beta_gas = func_beta_gas (q_gas_p_T, q_liquid_p_T)\n",
    "#     fruda_fluid = func_fruda_fluid(velocity_fluid,  D_tubing)\n",
    "#     fi_gas = func_fi_gas (beta_gas, fruda_fluid, c_1, c_2)\n",
    "#     density_fluid_p_T = func_density_fluid (density_liquid_p_T, density_gas_p_T, fi_gas)\n",
    "#     reinolds_liquid = func_reinolds_liquid (velocity_fluid, density_liquid_p_T, viscosity_liquid_p_T, D_tubing)\n",
    "#     labmda_friction = func_labmda_friction(reinolds_liquid, D_tubing, eps = 0.0015*10**-3)\n",
    "#     gradient_friction = func_gradient_friction (labmda_friction, velocity_fluid, density_fluid_p_T, D_tubing)\n",
    "#     gradient_static = func_gradient_static (density_fluid_p_T, cos_a = 1)\n",
    "#     gradient = func_gradient(gradient_static, gradient_friction)\n",
    "    \n",
    "#     return "
   ]
  },
  {
   "cell_type": "code",
   "execution_count": 13,
   "metadata": {},
   "outputs": [],
   "source": [
    "class Gron_parametrs:\n",
    "    def __init__(self, q_liquid_p_T, q_gas_p_T, density_gas_p_T, density_liquid_p_T, viscosity_liquid_p_T, D_tubing):\n",
    "        self.relative_viscosity = func_relative_viscosity(viscosity_liquid_p_T)\n",
    "        self.c_1 = coef_1(self.relative_viscosity, D_tubing)\n",
    "        self.c_2 = coef_2(self.relative_viscosity, D_tubing)\n",
    "        self.velocity_fluid = func_velocity_fluid(q_liquid_p_T, q_gas_p_T, D_tubing)\n",
    "        self.beta_gas = func_beta_gas (q_gas_p_T, q_liquid_p_T)\n",
    "        self.fruda_fluid = func_fruda_fluid(self.velocity_fluid,  D_tubing)\n",
    "        self.fi_gas = abs(func_fi_gas (self.beta_gas, self.fruda_fluid, self.c_1, self.c_2))\n",
    "        self.density_fluid_p_T = func_density_fluid (density_liquid_p_T, density_gas_p_T, self.fi_gas)\n",
    "        self.reinolds_liquid = func_reinolds_liquid (self.velocity_fluid, density_liquid_p_T, viscosity_liquid_p_T, D_tubing)\n",
    "        self.labmda_friction = func_labmda_friction(self.reinolds_liquid, D_tubing)\n",
    "        self.gradient_friction = func_gradient_friction (self.labmda_friction, self.velocity_fluid, self.density_fluid_p_T, D_tubing)\n",
    "        self.gradient_static = func_gradient_static (self.density_fluid_p_T)\n",
    "        self.gradient = func_gradient(self.gradient_static, self.gradient_friction)\n",
    "    def return_dict(self):\n",
    "        return self.__dict__\n"
   ]
  },
  {
   "cell_type": "code",
   "execution_count": null,
   "metadata": {},
   "outputs": [],
   "source": [
    "# a = Gron_parametrs(q_liquid_p_T, q_gas_p_T, density_gas_p_T, density_liquid_p_T, viscosity_liquid_p_T, D_tubing)\n",
    "# b = Gron_parametrs(q_liquid_p_T, q_gas_p_T, density_gas_p_T, density_liquid_p_T, viscosity_liquid_p_T, D_tubing)"
   ]
  },
  {
   "cell_type": "code",
   "execution_count": null,
   "metadata": {},
   "outputs": [],
   "source": [
    "# q_liquid_p_T, q_gas_p_T, density_gas_p_T, density_liquid_p_T, viscosity_liquid_p_T, D_tubing = 30,20, 28.2, 941.2, 112.6, 0.0635"
   ]
  },
  {
   "cell_type": "code",
   "execution_count": null,
   "metadata": {},
   "outputs": [],
   "source": [
    "# relative_viscosity = func_relative_viscosity(viscosity_liquid_p_T)\n",
    "# c_1 = coef_1(relative_viscosity, D_tubing)\n",
    "# c_2 = coef_2(relative_viscosity, D_tubing)\n",
    "# velocity_fluid = func_velocity_fluid(q_liquid_p_T, q_gas_p_T, D_tubing)\n",
    "# beta_gas = func_beta_gas (q_gas_p_T, q_liquid_p_T)\n",
    "# fruda_fluid = func_fruda_fluid(velocity_fluid,  D_tubing)\n",
    "# fi_gas = func_fi_gas (beta_gas, fruda_fluid, c_1, c_2)\n",
    "# density_fluid_p_T = func_density_fluid (density_liquid_p_T, density_gas_p_T, fi_gas)\n",
    "# reinolds_liquid = func_reinolds_liquid (velocity_fluid, density_liquid_p_T, viscosity_liquid_p_T, D_tubing)\n",
    "# labmda_friction = func_labmda_friction(reinolds_liquid, D_tubing, eps = 0.0015*10**-3)\n",
    "# gradient_friction = func_gradient_friction (labmda_friction, velocity_fluid, density_fluid_p_T, D_tubing)\n",
    "# gradient_static = func_gradient_static (density_fluid_p_T, cos_a = 1)\n",
    "# gradient = func_gradient(gradient_static, gradient_friction)"
   ]
  },
  {
   "cell_type": "code",
   "execution_count": null,
   "metadata": {},
   "outputs": [],
   "source": []
  }
 ],
 "metadata": {
  "kernelspec": {
   "display_name": "Python 3",
   "language": "python",
   "name": "python3"
  },
  "language_info": {
   "codemirror_mode": {
    "name": "ipython",
    "version": 3
   },
   "file_extension": ".py",
   "mimetype": "text/x-python",
   "name": "python",
   "nbconvert_exporter": "python",
   "pygments_lexer": "ipython3",
   "version": "3.7.5"
  }
 },
 "nbformat": 4,
 "nbformat_minor": 2
}
