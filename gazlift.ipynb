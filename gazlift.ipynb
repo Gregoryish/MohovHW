{
 "cells": [
  {
   "cell_type": "markdown",
   "metadata": {},
   "source": [
    "# газлифт"
   ]
  },
  {
   "cell_type": "code",
   "execution_count": 2,
   "metadata": {},
   "outputs": [],
   "source": [
    "import Gas\n",
    "import Oil\n",
    "import gron\n",
    "import cdp_instruments\n",
    "from cdp_instruments import get_crd_from_head\n"
   ]
  },
  {
   "cell_type": "markdown",
   "metadata": {},
   "source": [
    "_____________________________________\n",
    "Исходные свойства <b>нефти, газа</b> информация по месторождению"
   ]
  },
  {
   "cell_type": "code",
   "execution_count": 3,
   "metadata": {},
   "outputs": [],
   "source": [
    "#газосодрежание пластовой нефти, газовый фактор, м3/м3\n",
    "gas_saturation = 56 \n",
    "#давление насыщения, МПа\n",
    "p_bbp = 9 \n",
    "#плотность дегазированной нефти, кг/м3\n",
    "density_oil_without_gas = 860\n",
    "#плотность нефти в пластовых условиях, кг/м3\n",
    "density_oil_reservoir = 800\n",
    "\n",
    "#плотность воды, кг/м3\n",
    "density_water = 1000\n",
    "\n",
    "#плотность газа стандартные условия, кг/м3\n",
    "density_gas_std = 1.45\n",
    "#содержание в газе метана, %\n",
    "y_c1 = 0.4\n",
    "#содержание в газе азота, %\n",
    "y_a = 0.08\n",
    "#содержание в газе УВ части, %\n",
    "y_c = 1-y_a-0.1\n",
    "#пластовая температура, К\n",
    "t_reservoir = 40+273"
   ]
  },
  {
   "cell_type": "code",
   "execution_count": 4,
   "metadata": {},
   "outputs": [],
   "source": [
    "# #дебит по жидкости м3/сут\n",
    "# q_liquid = 40\n",
    "# #обводнённость, д.ед\n",
    "# B = 0\n",
    "# #диаметр экспл. колонны внутренний, м\n",
    "# D_casing_in = 0.133\n",
    "# #диаметр нкт колонны внутренний, м\n",
    "# D_tubing_in = 0.0503\n",
    "# #давление на устье в НКТ, МПа\n",
    "# p_head_tubing = 0.9\n",
    "# #Глубина скважины, м\n",
    "# h_well = 1605\n",
    "# #Глубина спуска труб, м\n",
    "# h_tubing = 1205\n",
    "\n",
    "#дебит по жидкости м3/сут\n",
    "q_liquid = 40\n",
    "#обводнённость, д.ед\n",
    "B = 0\n",
    "#диаметр экспл. колонны внутренний, м\n",
    "D_casing_in = 0.133\n",
    "#диаметр нкт колонны внутренний, м\n",
    "D_tubing_in = 0.0503\n",
    "#давление на устье в НКТ, МПа\n",
    "p_head_tubing = 0.4\n",
    "#Глубина скважины, м\n",
    "h_well = 1670\n",
    "#Глубина спуска труб, м\n",
    "h_tubing = 1099"
   ]
  },
  {
   "cell_type": "markdown",
   "metadata": {},
   "source": [
    "дополнительные параметры\n"
   ]
  },
  {
   "cell_type": "code",
   "execution_count": 5,
   "metadata": {},
   "outputs": [],
   "source": [
    "# #давление на забое , МПа\n",
    "# p_wf = 11.435\n",
    "# #пластовое давление, МПа\n",
    "# p_reservoir = round((h_well*9.81*1000/10**6 + 2),2)\n",
    "# #температура на устье, К\n",
    "# t_head_tubing = 274\n",
    "# # К продуктивности, м3/МПа\n",
    "# PI = round(q_liquid/(p_reservoir - p_wf),3)\n",
    "# #молекулярная масса газа\n",
    "# mean_mol_mass = density_gas_std*24.05\n",
    "# #относительная плотность газа, кг/м3\n",
    "# relative_density_gas = Gas._relative_density(mean_mol_mass)\n",
    "#давление на забое , МПа\n",
    "\n",
    "p_wf = 11.72\n",
    "#пластовое давление, МПа\n",
    "p_reservoir = round((h_well*9.81*1000/10**6 + 2),2)\n",
    "#температура на устье, К\n",
    "t_head_tubing = 274\n",
    "# К продуктивности, м3/МПа\n",
    "PI = round(q_liquid/(p_reservoir - p_wf),3)\n",
    "#молекулярная масса газа\n",
    "mean_mol_mass = density_gas_std*24.05\n",
    "#относительная плотность газа, кг/м3\n",
    "relative_density_gas = Gas._relative_density(mean_mol_mass)"
   ]
  },
  {
   "cell_type": "code",
   "execution_count": 6,
   "metadata": {},
   "outputs": [],
   "source": [
    "# #данные исследований\n",
    "# h_test = [0, 105, 305, 505, 705, 905, 1105, 1305, 1405, 1505, 1605]\n",
    "# p_test = [0.9, 1.12, 1.83, 2.957, 4.355, 5.785, 7.3, 8.953, 9.863, 10.176, 11.435]\n",
    "\n",
    "#данные исследований\n",
    "h_test = [0, 263, 463, 663, 863, 1063, 1263, 1463, 1663]\n",
    "p_test = [0.4, 1.28, 2.29, 3.82, 5.11, 6.75, 8.23, 10.0, 11.72]"
   ]
  },
  {
   "cell_type": "code",
   "execution_count": null,
   "metadata": {},
   "outputs": [],
   "source": []
  },
  {
   "cell_type": "code",
   "execution_count": 7,
   "metadata": {},
   "outputs": [],
   "source": [
    "q_liquid = 40\n",
    "a_gas = 0"
   ]
  },
  {
   "cell_type": "code",
   "execution_count": 11,
   "metadata": {},
   "outputs": [
    {
     "ename": "NameError",
     "evalue": "name 'density_gas_std' is not defined",
     "output_type": "error",
     "traceback": [
      "\u001b[1;31m---------------------------------------------------------------------------\u001b[0m",
      "\u001b[1;31mNameError\u001b[0m                                 Traceback (most recent call last)",
      "\u001b[1;32m<ipython-input-11-920aa6777252>\u001b[0m in \u001b[0;36m<module>\u001b[1;34m\u001b[0m\n\u001b[0;32m     11\u001b[0m             \u001b[0mdensity_water\u001b[0m\u001b[1;33m,\u001b[0m\u001b[1;33m\u001b[0m\u001b[1;33m\u001b[0m\u001b[0m\n\u001b[0;32m     12\u001b[0m             \u001b[0mB\u001b[0m\u001b[1;33m,\u001b[0m\u001b[1;33m\u001b[0m\u001b[1;33m\u001b[0m\u001b[0m\n\u001b[1;32m---> 13\u001b[1;33m             D_tubing_in, D_casing_in, a_gas=a_gas)\n\u001b[0m",
      "\u001b[1;32m~\\Documents\\GitHub\\MohovHW\\cdp_instruments.py\u001b[0m in \u001b[0;36mget_crd_from_head\u001b[1;34m(q_liquid, h_well, h_tubing, p_bbp, p_reservoir, t_reservoir, t_head_tubing, p_head_tubing, gas_saturation, y_a, y_c1, y_c, density_oil_without_gas, relative_density_gas, density_water, B, D_tubing_in, D_casing_in, p_step, a_gas)\u001b[0m\n\u001b[0;32m    274\u001b[0m             \u001b[0mD_tubing\u001b[0m \u001b[1;33m=\u001b[0m \u001b[0mD_casing_in\u001b[0m\u001b[1;33m\u001b[0m\u001b[1;33m\u001b[0m\u001b[0m\n\u001b[0;32m    275\u001b[0m         \u001b[1;32mif\u001b[0m \u001b[0mlen\u001b[0m\u001b[1;33m(\u001b[0m\u001b[0mlist_all_parametrs\u001b[0m\u001b[1;33m)\u001b[0m \u001b[1;33m==\u001b[0m \u001b[1;36m0\u001b[0m\u001b[1;33m:\u001b[0m\u001b[1;33m\u001b[0m\u001b[1;33m\u001b[0m\u001b[0m\n\u001b[1;32m--> 276\u001b[1;33m             \u001b[0mall_parametrs\u001b[0m \u001b[1;33m=\u001b[0m \u001b[0mget_all_parametrs\u001b[0m\u001b[1;33m(\u001b[0m\u001b[0mp\u001b[0m\u001b[1;33m,\u001b[0m \u001b[0mt\u001b[0m\u001b[1;33m,\u001b[0m \u001b[0mp_bbp\u001b[0m\u001b[1;33m,\u001b[0m \u001b[0mt_reservoir\u001b[0m\u001b[1;33m,\u001b[0m \u001b[0mgas_saturation\u001b[0m\u001b[1;33m,\u001b[0m \u001b[0my_a\u001b[0m\u001b[1;33m,\u001b[0m \u001b[0my_c1\u001b[0m\u001b[1;33m,\u001b[0m \u001b[0my_c\u001b[0m\u001b[1;33m,\u001b[0m \u001b[0mdensity_oil_without_gas\u001b[0m\u001b[1;33m,\u001b[0m\u001b[0mdensity_gas_std\u001b[0m\u001b[1;33m,\u001b[0m \u001b[0mrelative_density_gas\u001b[0m\u001b[1;33m,\u001b[0m \u001b[0mdensity_water\u001b[0m\u001b[1;33m,\u001b[0m \u001b[0mB\u001b[0m\u001b[1;33m,\u001b[0m \u001b[0mq_liquid\u001b[0m\u001b[1;33m,\u001b[0m \u001b[0mD_tubing\u001b[0m\u001b[1;33m,\u001b[0m \u001b[0ma_gas\u001b[0m\u001b[1;33m)\u001b[0m\u001b[1;33m\u001b[0m\u001b[1;33m\u001b[0m\u001b[0m\n\u001b[0m\u001b[0;32m    277\u001b[0m             \u001b[0mlist_all_parametrs\u001b[0m\u001b[1;33m.\u001b[0m\u001b[0mappend\u001b[0m\u001b[1;33m(\u001b[0m\u001b[0mall_parametrs\u001b[0m\u001b[1;33m)\u001b[0m\u001b[1;33m\u001b[0m\u001b[1;33m\u001b[0m\u001b[0m\n\u001b[0;32m    278\u001b[0m \u001b[1;33m\u001b[0m\u001b[0m\n",
      "\u001b[1;31mNameError\u001b[0m: name 'density_gas_std' is not defined"
     ]
    }
   ],
   "source": [
    "p_list, list_H, list_all_parametrs = get_crd_from_head(\n",
    "            q_liquid, \n",
    "            h_well, h_tubing,\n",
    "            p_bbp, p_reservoir,\n",
    "            t_reservoir, t_head_tubing, p_head_tubing,\n",
    "            gas_saturation, \n",
    "            y_a, y_c1, y_c, \n",
    "            density_oil_without_gas, \n",
    "            density_gas_std,\n",
    "            relative_density_gas, \n",
    "            density_water, \n",
    "            B, \n",
    "            D_tubing_in, D_casing_in, a_gas=a_gas)"
   ]
  },
  {
   "cell_type": "code",
   "execution_count": 9,
   "metadata": {},
   "outputs": [
    {
     "data": {
      "text/plain": [
       "1.45"
      ]
     },
     "execution_count": 9,
     "metadata": {},
     "output_type": "execute_result"
    }
   ],
   "source": [
    "density_gas_std"
   ]
  },
  {
   "cell_type": "code",
   "execution_count": 10,
   "metadata": {},
   "outputs": [
    {
     "data": {
      "text/plain": [
       "1.45"
      ]
     },
     "execution_count": 10,
     "metadata": {},
     "output_type": "execute_result"
    }
   ],
   "source": [
    "density_gas_std"
   ]
  },
  {
   "cell_type": "code",
   "execution_count": null,
   "metadata": {},
   "outputs": [],
   "source": []
  }
 ],
 "metadata": {
  "kernelspec": {
   "display_name": "Python 3",
   "language": "python",
   "name": "python3"
  },
  "language_info": {
   "codemirror_mode": {
    "name": "ipython",
    "version": 3
   },
   "file_extension": ".py",
   "mimetype": "text/x-python",
   "name": "python",
   "nbconvert_exporter": "python",
   "pygments_lexer": "ipython3",
   "version": "3.7.5"
  }
 },
 "nbformat": 4,
 "nbformat_minor": 2
}
