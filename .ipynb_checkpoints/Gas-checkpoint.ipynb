{
 "cells": [
  {
   "cell_type": "code",
   "execution_count": 6,
   "metadata": {},
   "outputs": [],
   "source": [
    "import numpy as np"
   ]
  },
  {
   "cell_type": "markdown",
   "metadata": {},
   "source": [
    "<b>Состав Газа и его использование для нахождения физических характеристик </b>"
   ]
  },
  {
   "cell_type": "code",
   "execution_count": 7,
   "metadata": {},
   "outputs": [],
   "source": [
    "#нормальный молярный объём в нормальных условиях\n",
    "normal_volume = 22.4 \n",
    "#\n",
    "standart_volume = 24.05"
   ]
  },
  {
   "cell_type": "code",
   "execution_count": 8,
   "metadata": {},
   "outputs": [],
   "source": [
    "# массовая доля компонента в смеси\n",
    "G = np.arange(1,3)\n",
    "# объёмная (молярная) доля компонента в смеси\n",
    "y = np.arange(2,4)\n",
    "# молекулярная масса i-го компонента\n",
    "M = np.arange(3,5)"
   ]
  },
  {
   "cell_type": "code",
   "execution_count": 9,
   "metadata": {},
   "outputs": [],
   "source": [
    "#средняя молекулярная масса газа \n",
    "\n",
    "def _mean_mol_massa (yG, M, how, si):\n",
    "    if how == 'y':\n",
    "        if si == '%':\n",
    "            return _mean_mol_massa_volume_1(yG, M)\n",
    "        else:\n",
    "            return _mean_mol_massa_volume_2(yG, M)\n",
    "    if how == 'G':\n",
    "        if si == '%':\n",
    "            return _mean_mol_massa_mas_1 (yG, M)\n",
    "        else:\n",
    "            return _mean_mol_massa_mas_2 (yG, M)\n",
    "\n",
    "#если объёмная доля в процентах\n",
    "def _mean_mol_massa_volume_1(y, M):\n",
    "    y_m_multiply = np.multiply(y, M).sum()\n",
    "    return round(y_m_multiply/100,3)\n",
    "\n",
    "#если объёмная доля в долях единиц\n",
    "def _mean_mol_massa_volume_2(y, M):\n",
    "    y_m_multiply = np.multiply(y, M).sum()\n",
    "    return round(y_m_multiply,3)\n",
    "\n",
    "#если массовая доля в процентах\n",
    "def _mean_mol_massa_mas_1 (G, M):\n",
    "    g_m_multiply = np.multiply(G, 1/M).sum()\n",
    "    return round(100/g_m_multiply,3)\n",
    "\n",
    "#если массовая доля в долях единиц\n",
    "def _mean_mol_massa_mas_2 (G, M):\n",
    "    g_m_multiply = np.multiply(G, 1/M).sum()\n",
    "    return round(1/g_m_multiply,3)"
   ]
  },
  {
   "cell_type": "code",
   "execution_count": 10,
   "metadata": {},
   "outputs": [],
   "source": [
    "# средняя плотность газа по вычисленной средней молекулярной массе\n",
    "\n",
    "# в нормальных условиях\n",
    "def _mean_density_gas_norm(mean_mol_massa):\n",
    "    return round(mean_mol_massa/22.414,3)\n",
    "\n",
    "# в стандартных условиях\n",
    "def _mean_density_gas_std(mean_mol_massa):\n",
    "    return round(mean_mol_massa/24.05,3)\n",
    "\n",
    "#относительная плотность газа по воздуху\n",
    "def _relative_density (mean_mol_massa, how=None):\n",
    "    if how == 'norm':\n",
    "        mean_density = mean_density_gas_norm(mean_mol_massa)\n",
    "        return round(mean_density/1.293, 3)\n",
    "    elif how == 'std':\n",
    "        mean_density = mean_density_gas_std(mean_mol_massa)\n",
    "        return round(mean_density/1.205, 3)\n",
    "    else:\n",
    "        return round(mean_mol_massa/28.98, 3)"
   ]
  },
  {
   "cell_type": "markdown",
   "metadata": {},
   "source": [
    "<b>Уравнения состояние и их использование для расчёта физических свойств газов </b>"
   ]
  },
  {
   "cell_type": "code",
   "execution_count": 11,
   "metadata": {},
   "outputs": [],
   "source": [
    "p0 = 101.325 * 1000 # , Па\n",
    "T0 = 273.15 # , К\n",
    "V_m = 22.414 # , м3/кмоль\n",
    "R_m = round(p0*V_m/T0,3) # Дж/ (кмоль*К) универсальная газовая постоянная\n",
    "def _R(mean_mol_massa, R_m=8.314*10**3):\n",
    "    return round(R_m/mean_mol_massa, 3)"
   ]
  },
  {
   "cell_type": "code",
   "execution_count": 12,
   "metadata": {},
   "outputs": [],
   "source": [
    "#приведенное давление\n",
    "def _pressure_priv(p, p_psev_crit):\n",
    "    return round(p/p_psev_crit,3)\n",
    "\n",
    "#приведенная температура\n",
    "def _temperature_priv(T, T_psev_crit):\n",
    "    return round(T/T_psev_crit,3)\n",
    "\n",
    "# псевдокритические параметры газа\n",
    "def _T_psev_crit(y, T_crit):\n",
    "    y_T_crit_multiply = np.multiply(y, T_crit)\n",
    "    y_T_crit_multiply = y_T_crit_multiply.sum()\n",
    "    return y_T_crit_multiply\n",
    "\n",
    "def _P_psev_crit(y, P_crit):\n",
    "    y_P_crit_multiply = np.multiply(y, P_crit)\n",
    "    y_P_crit_multiply = y_P_crit_multiply.sum()\n",
    "    return y_P_crit_multiply\n",
    "\n",
    "# приведенное давление по аппроксимационным формулам П.Д. Ляпкова \n",
    "def _Lyapkov_pressure_priv (p, relative_density_hydrocarbon):\n",
    "    pressire_priv = p / (10**5*(46.9 - 2.06*relative_density_hydrocarbon**2))\n",
    "    return round(pressire_priv, 3)\n",
    "# приведенная температура по аппроксимационным формулам П.Д. Ляпкова\n",
    "def _Lyapkov_temperature_priv (T, relative_density_hydrocarbon):\n",
    "    #temperature_priv = T / (97 + 172*relative_density_hydrocarbon**2)\n",
    "    temperature_priv = T / (97 + 172*relative_density_hydrocarbon)\n",
    "    \n",
    "    return round(temperature_priv, 3)\n",
    "\n",
    "# относительная по воздуху плотность смеси УВ газов кроме азота\n",
    "# на входе относительная плотность всего воздуха вычисляемая, молярная доля азота при стандартных условиях\n",
    "def _relative_density_hydrocarbon(relative_density, y_a, p_a=0.970):\n",
    "    relative_density_hydrocarbon = (relative_density - p_a*y_a)/(1-y_a)\n",
    "    return round (relative_density_hydrocarbon, 3)\n"
   ]
  },
  {
   "cell_type": "code",
   "execution_count": 13,
   "metadata": {},
   "outputs": [],
   "source": [
    "# функцтя коэффициента сверхжимаемости\n",
    "# y_a - объёменая доля азота\n",
    "# y_oil - объёмная доля углеводородных компонентов\n",
    "# z_o, z_a - к сверхжимаемости УВ, азота\n",
    "def _z_supercompress(z_o, y_o, z_a, y_a):\n",
    "    z_supercompress = z_o*y_o + z_a*y_a\n",
    "    return z_supercompress "
   ]
  },
  {
   "cell_type": "code",
   "execution_count": 1,
   "metadata": {},
   "outputs": [],
   "source": [
    "# для p = 0-20 МПа, T = 273-355 K\n",
    "\n",
    "def _z_y(pressure_priv, temperature_priv):\n",
    "    if temperature_priv<1.05:\n",
    "        temperature_priv = 1.05\n",
    "    if (0<=pressure_priv<=3.8) and (1.17<=temperature_priv<2):\n",
    "        z_y = 1 - pressure_priv*(0.18/(temperature_priv-0.73)-0.135)\\\n",
    "                + 0.016*pressure_priv**3.45/temperature_priv**6.1\n",
    "\n",
    "    if (0<=pressure_priv<=1.45) and (1.05<=temperature_priv<1.17):\n",
    "        z_y = 1 - 0.23*pressure_priv - (1.88 - 1.6*temperature_priv)*pressure_priv**2\n",
    "    \n",
    "    if (1.45<=pressure_priv<=5) and (1.05<=temperature_priv<=1.17):\n",
    "        z_y = 0.13*pressure_priv + (6.05*temperature_priv - 6.26)*temperature_priv/pressure_priv**2  \n",
    "    return z_y\n"
   ]
  },
  {
   "cell_type": "code",
   "execution_count": 15,
   "metadata": {},
   "outputs": [],
   "source": [
    "# коэффициент сфержимаемости азота от текущих p, T\n",
    "\n",
    "def _z_a(p, T):\n",
    "    z_a = 1 + 0.564*10**-10*(T-273)**3.71*(p/10**6)**(14.7/(T-273)**0.5)\n",
    "    return z_a"
   ]
  },
  {
   "cell_type": "code",
   "execution_count": 16,
   "metadata": {},
   "outputs": [],
   "source": [
    "\n",
    "def _density_gas_p_T(p,T,z_supercompress, density_gas_norm, p_0=101325, T_0=273):\n",
    "    density_gas_p_T = density_gas_norm*p*T_0/(z_supercompress*p_0*T)\n",
    "    return density_gas_p_T\n",
    "def _Volume_gas_p_T (p,T,z_supercompress, V_0, p_0=101325, T_0=273):\n",
    "    density_gas_p_T = V_0*z_supercompress*p_0*T/(p*T_0)\n",
    "    return density_gas_p_T"
   ]
  },
  {
   "cell_type": "code",
   "execution_count": 17,
   "metadata": {},
   "outputs": [],
   "source": [
    "# y_percent = np.array([35.5, 23.9, 19.4, 2.5, 6.7, 1.8, 1.7, 1.1, 0.5, 6.9])\n",
    "# y_relant = y_percent/100\n",
    "# M = np.array([16.043, 30.070, 44.097, 58.124, 58.124, 72.151, 72.151, 88.178, 44.011, 28.016])\n",
    "# G_relat = np.array([0.176, 0.222, 0.264, 0.045, 0.120, 0.040, 0.038, 0.029, 0.007, 0.059])\n",
    "# G_percent = G_relat*100\n"
   ]
  },
  {
   "cell_type": "code",
   "execution_count": 30,
   "metadata": {},
   "outputs": [],
   "source": [
    "# Функция температуры потока от P_current текущего давления\n",
    "def T_function_p (p_current, p_reservoir, p_flowline, T_reservoir, T_flowline):\n",
    "    T_function_p = T_flowline + ((T_reservoir-T_flowline)*(p_current-p_flowline))/( p_reservoir - p_flowline)\n",
    "    return round(T_function_p,3)\n"
   ]
  },
  {
   "cell_type": "code",
   "execution_count": null,
   "metadata": {},
   "outputs": [],
   "source": []
  },
  {
   "cell_type": "code",
   "execution_count": 31,
   "metadata": {},
   "outputs": [],
   "source": [
    "# #well 5PM\n",
    "# # скважина 2Ф(D): \n",
    "# liquid_rate = 40 #м3/сут\n",
    "# B = 0 #% обводнённость 0%\n",
    "# D_cas_in = 0.133 # м внутренний диаметр обсадной колонны\n",
    "# d_tub_in = 0.0503 # м внутренний диаметр НКТ\n",
    "# p_flowline = 0.9 # МПа давление на устье\n",
    "# p_wf = 11.435 # МПа забойное давление\n",
    "# H_well = 1605 # м глубина скважины\n",
    "# H_tubing = 1205 # м глубина спуска труб\n",
    "\n",
    "# gas_saturation = 56 #м3/м3 газосодержание пластовой нефти\n",
    "# pressure_bubble_point_form = 9 # МПа , давление насыщения МПа\n",
    "# density_oil_without_gas = 860 # кг/м3 плотность нефти дегазированной\n",
    "# density_oil_reservoir = 800 #кг/м3 плотность нефти в пластовых условиях\n",
    "# T_reservoir = 313 # К\n",
    "\n",
    "# y_a, y_c1 = 0.08, 0.4 # мольная доля в процентах азота, метана\n",
    "# density_gas = 1.45 # кг/м3 плотность газа при ОСР \n",
    "\n",
    "# #из плотности газа можно найти молекулярную массу, небходимые параметры для расчёта св-в газа при p,T\n",
    "\n",
    "# #параметры недостающие\n",
    "# T_flowline = 293\n",
    "# pressure_reservoir = H_well * 1000*9.81/10**6 +2 #пластовое давление расчётное\n",
    "\n",
    "# PI = liquid_rate/(pressure_reservoir - p_wf)/10 # м3/атм\n"
   ]
  },
  {
   "cell_type": "code",
   "execution_count": 32,
   "metadata": {},
   "outputs": [],
   "source": [
    "# p_current_list = np.arange(p_flowline, p_wf,0.5)\n",
    "# T_current_list = np.array([T_function_p  (p_i, pressure_reservoir, p_flowline, T_reservoir, T_flowline) for p_i in p_current_list])"
   ]
  },
  {
   "cell_type": "code",
   "execution_count": 33,
   "metadata": {},
   "outputs": [],
   "source": [
    "# y_a = 0.08\n",
    "# relative_density = 1.45*24.05/28.98\n",
    "# p = 0.9*10**6\n",
    "# T =T_flowline = 293"
   ]
  },
  {
   "cell_type": "code",
   "execution_count": 34,
   "metadata": {},
   "outputs": [
    {
     "data": {
      "text/plain": [
       "0.953"
      ]
     },
     "execution_count": 34,
     "metadata": {},
     "output_type": "execute_result"
    }
   ],
   "source": [
    "\n",
    "# relative_density_hydrocarbon = _relative_density_hydrocarbon(relative_density, y_a, p_a=0.970)\n",
    "\n",
    "# # приведенное давление по аппроксимационным формулам П.Д. Ляпкова \n",
    "# _Lyapkov_pressure_priv (p, relative_density_hydrocarbon)\n",
    "\n",
    "# # приведенная температура по аппроксимационным формулам П.Д. Ляпкова\n",
    "# _Lyapkov_temperature_priv (T, relative_density_hydrocarbon)\n"
   ]
  },
  {
   "cell_type": "code",
   "execution_count": 36,
   "metadata": {},
   "outputs": [],
   "source": [
    "# priv={'pressure_priv':[], 'temperature_priv':[]}\n",
    "# for i in range(len(p_current_list)):\n",
    "#     p = p_current_list[i]*10**6\n",
    "#     T = T_current_list[i]\n",
    "#     pressure_priv = _Lyapkov_pressure_priv (p, relative_density_hydrocarbon)\n",
    "#     temperature_priv = _Lyapkov_temperature_priv (T, relative_density_hydrocarbon)\n",
    "#     priv['pressure_priv']+=[pressure_priv]\n",
    "#     priv['temperature_priv'] +=[temperature_priv]"
   ]
  },
  {
   "cell_type": "code",
   "execution_count": 40,
   "metadata": {},
   "outputs": [],
   "source": [
    "# priv"
   ]
  },
  {
   "cell_type": "code",
   "execution_count": 43,
   "metadata": {},
   "outputs": [],
   "source": [
    "\n",
    "# for i in range(len(priv['temperature_priv'])):\n",
    "#     z=0\n",
    "#     temperature_priv = priv['temperature_priv'][i]\n",
    "#     pressure_priv = priv['pressure_priv'][i]\n",
    "#     if temperature_priv<1.05:\n",
    "#         temperature_priv = 1.05\n",
    "#     if (0<=pressure_priv<=3.8) and (1.17<=temperature_priv<2):\n",
    "#         z+=1\n",
    "#     if (0<=pressure_priv<=1.45) and (1.05<=temperature_priv<1.17):\n",
    "#         z+=1\n",
    "#     if (1.45<=pressure_priv<=4) and (1.05<=temperature_priv<=1.17):\n",
    "#         z_y = 0.13*pressure_priv + (6.05*temperature_priv - 6.26)*temperature_priv/pressure_priv**2  \n",
    "#         z+=1\n",
    "#     print(i, z)"
   ]
  },
  {
   "cell_type": "code",
   "execution_count": null,
   "metadata": {},
   "outputs": [],
   "source": []
  }
 ],
 "metadata": {
  "kernelspec": {
   "display_name": "Python 3",
   "language": "python",
   "name": "python3"
  },
  "language_info": {
   "codemirror_mode": {
    "name": "ipython",
    "version": 3
   },
   "file_extension": ".py",
   "mimetype": "text/x-python",
   "name": "python",
   "nbconvert_exporter": "python",
   "pygments_lexer": "ipython3",
   "version": "3.7.5"
  }
 },
 "nbformat": 4,
 "nbformat_minor": 2
}
