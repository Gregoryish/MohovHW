{
 "cells": [
  {
   "cell_type": "markdown",
   "metadata": {},
   "source": [
    "Иходные данные\n",
    "\n",
    "    1. density_oil_without_gas - плотность дегазированной нефти ( p_0 = 0.1 *10^6 МПа, Tст = 293 К), кг/м^3\n",
    "    2. viscosity_without_gas - вязкость нефти в стандартных условиях , мПа*с\n",
    "    3. gas_saturation  - газонасыщенность (газосодержание) пластовой нефти, т.е. отношение объёма газа, растворённого в нефти, к массе сепарированной нефти м3/т (объём газа приведен к нормальным условиям)\n",
    "    4. relative_density_gas (relative_density) - относительная плотность газа по воздуху\n",
    "    5. T_formation - пластовая температура, К\n",
    "    6. pressure_formation - пластовое давление, МПа\n",
    "    7. pressure_bubble_point_form - давление насыщения пластовой нефти при пластовой температуре, МПа\n",
    "    8. y_a, y_c1 - молярная доли азота и метана в попутном газе однократного разгазирования нефти до (0.1 МПа, 293 К)\n",
    "    \n",
    "    "
   ]
  },
  {
   "cell_type": "code",
   "execution_count": 4,
   "metadata": {},
   "outputs": [],
   "source": [
    "import numpy as np\n",
    "import math"
   ]
  },
  {
   "cell_type": "code",
   "execution_count": 2,
   "metadata": {},
   "outputs": [],
   "source": [
    "#1 определяем термодинамические условия разгазирования p, T\n",
    "#TODO\n",
    "\n",
    "#2 равновесное давление насыщения при T<=Tпл\n",
    "\n",
    "def _pressure_bbp_T (pressure_bubble_point_form, T_formation, T_current, gas_saturation, y_a, y_c1):\n",
    "    pressure_bbp_T = pressure_bubble_point_form - (T_formation - T_current)/(9.157 + 701.8/(gas_saturation*(y_c1 - 0.8*y_a)))\n",
    "    return round(pressure_bbp_T, 3)\n"
   ]
  },
  {
   "cell_type": "code",
   "execution_count": 8,
   "metadata": {},
   "outputs": [],
   "source": [
    "# 3\n",
    "def _R(p, pressure_bbp_T):\n",
    "    R = (1+math.log10(p))/(1+math.log10(pressure_bbp_T)) -1\n",
    "    return round(R, 4)\n",
    "\n",
    "def _m (T, density_oil_without_gas, relative_density):\n",
    "    m = 1+0.029*(T-293)*(density_oil_without_gas*relative_density*10**-3 - 0.7966)\n",
    "    return round(m, 4)\n",
    "\n",
    "def _D (T, density_oil_without_gas, relative_density):\n",
    "    D = (10**-3)*density_oil_without_gas*relative_density*(4.5 - 0.00305*(T-293))-4.785\n",
    "    return round(D, 4)\n",
    "\n",
    "# приведённый к нормальным условиям удельный объём выделившегося газа\n",
    "\n",
    "def _volume_separate_gas (gas_saturation, R, m, D):\n",
    "    volume_separate_gas = gas_saturation*R*m*(D*(1+R)-1)\n",
    "    return round(volume_separate_gas, 4)\n",
    "\n",
    "    "
   ]
  },
  {
   "cell_type": "code",
   "execution_count": 14,
   "metadata": {},
   "outputs": [],
   "source": [
    "#4 рассчёт остаточной газонасыщенности нефти (удельный объём растворенного раза) в процессе её разгазирвоания\n",
    "def _volume_dissolved_gas (gas_saturation, m, volume_separate_gas):\n",
    "    volume_dissolved_gas = gas_saturation*m - volume_separate_gas\n",
    "    return round(volume_dissolved_gas, 2)\n"
   ]
  },
  {
   "cell_type": "code",
   "execution_count": 18,
   "metadata": {},
   "outputs": [],
   "source": [
    "#5 относительная плотность выделившегося газа (p, T)\n",
    "def _relative_density_separate_gas (relative_density, a, u, R):\n",
    "    relative_density_separate_gas = a*(relative_density - 0.0036*(1+R)*(105.7 + u*R))\n",
    "    return round(relative_density_separate_gas, 4)\n",
    "\n",
    "def _a (T):\n",
    "    a = 1 + 0.0054*(T-293)\n",
    "    return a\n",
    "\n",
    "def _u(density_oil_without_gas, gas_saturation):\n",
    "    u = 10**-3*density_oil_without_gas*gas_saturation - 186\n",
    "    return u\n"
   ]
  },
  {
   "cell_type": "code",
   "execution_count": 19,
   "metadata": {},
   "outputs": [],
   "source": [
    "#6 находим относительную плотность растворённого раза, остающегося в нефти при данных условиях её разгазирования (p, T)\n",
    "def _relative_density_dissolved_gas (gas_saturation, a, m, relative_density_gas, relative_density_separate_gas, volume_separate_gas, volume_dissolved_gas):\n",
    "    relative_density_dissolved_gas = gas_saturation*(a*m*relative_density_gas - relative_density_separate_gas*volume_separate_gas/gas_saturation)/volume_dissolved_gas\n",
    "    return round (relative_density_dissolved_gas , 4)\n"
   ]
  },
  {
   "cell_type": "code",
   "execution_count": 39,
   "metadata": {},
   "outputs": [],
   "source": [
    "#7 рассчитываем объёмный коэффициент, \n",
    "def _b_oil(p ,T ,density_oil_without_gas, volume_dissolved_gas, lambda_T, m, alpha_n):\n",
    "    b_oil = 1 + 1.0733*10**-3*density_oil_without_gas*volume_dissolved_gas*lambda_T/m\\\n",
    "        +alpha_n*(T-293) - 6.5*10**-4*p\n",
    "    return round(b_oil,3)\n",
    "\n",
    "# предварительно определив удельное приращение объёма нефти за счёт единичного изменения газонасыщенности lambda_T\n",
    "def _lambda_T(density_oil_without_gas, relative_density_dissolved_gas, a, volume_dissolved_gas):\n",
    "    lambda_T = 10**-3*(4.3-3.54*10**-3*density_oil_without_gas + 1.0337*relative_density_dissolved_gas/a\\\n",
    "                      +5.581*10**-6*density_oil_without_gas*(1-1.61*10**-6*density_oil_without_gas*volume_dissolved_gas)\\\n",
    "                       * volume_dissolved_gas)\n",
    "    return round(lambda_T, 6)\n",
    "# температурный коэффициент объёмного расширения дегазированной нефти при стандартном давлении\n",
    "def _alpha_n(density_oil_without_gas):\n",
    "    if 780<=density_oil_without_gas<=860:\n",
    "        alpha_n = 10**-3*(3.083-2.638*10**-3*density_oil_without_gas)\n",
    "    if 860<=density_oil_without_gas<=960:\n",
    "        alpha_n = 10**-3*(2.513-1.975*10**-3*density_oil_without_gas)\n",
    "    return round(alpha_n, 8)\n",
    "        \n"
   ]
  },
  {
   "cell_type": "code",
   "execution_count": 25,
   "metadata": {},
   "outputs": [],
   "source": [
    "#8 определяем плотность газонасыщенной нефти\n",
    "\n",
    "def _density_oil_with_gas (density_oil_without_gas, relative_density_dissolved_gas, volume_dissolved_gas, a, m, b_oil,):\n",
    "    density_oil_with_gas = density_oil_without_gas*(1+1.293*10**-3*relative_density_dissolved_gas*volume_dissolved_gas/(a*m))/b_oil\n",
    "    return round(density_oil_with_gas, 3)"
   ]
  },
  {
   "cell_type": "code",
   "execution_count": 32,
   "metadata": {},
   "outputs": [],
   "source": [
    "#9 определяем вязкость дегазированной нефти при p_0 , T\n",
    "\n",
    "def _viscosity_without_gas_T ( density_without_gas, T, a, b,viscosity_without_gas=0):\n",
    "    if viscosity_without_gas == 0:\n",
    "        viscosity_without_gas = _Dunyshkin_viscosity_without_gas(density_without_gas)\n",
    "    viscosity_without_gas = viscosity_without_gas*(T-293)**a*math.exp(1)**(b*(293-T))\n",
    "    return round(viscosity_without_gas,3)\n",
    "def _Dunyshkin_viscosity_without_gas (density_without_gas):\n",
    "    if 845<density_without_gas<924:\n",
    "        viscosity_without_gas = ((0.658*density_without_gas**2)/(886*10**3-density_without_gas**2))**2\n",
    "    if 780<density_without_gas<=845:\n",
    "        viscosity_without_gas = ((0.456*density_without_gas**2)/(833*10**3-density_without_gas**2))**2\n",
    "    return round (viscosity_without_gas, 3)\n",
    "\n",
    "def _a_viscosity (T):\n",
    "    a = 10**(-0.0175*(293-T)-2.58)\n",
    "    return a\n",
    "\n",
    "def _b_viscosity (density_without_gas, T, viscosity_without_gas=0):\n",
    "    if viscosity_without_gas == 0:\n",
    "        viscosity_without_gas = _Dunyshkin_viscosity_without_gas(density_without_gas)\n",
    "    b_viscosity = (8*10**-5*density_without_gas-0.047)*viscosity_without_gas**(0.13+0.002*(T-293))\n",
    "    return round(b_viscosity,4)\n"
   ]
  },
  {
   "cell_type": "code",
   "execution_count": 41,
   "metadata": {},
   "outputs": [],
   "source": [
    "#10 определяем вязкость газонасыщенной нефти\n",
    "\n",
    "def _viscosity_dissolved_gas(A_visc_dissolved, B_visc_dissolved, viscosity_without_gas_T):\n",
    "    viscosity_dissolved_gas = A_visc_dissolved*viscosity_without_gas_T**B_visc_dissolved\n",
    "    return viscosity_dissolved_gas\n",
    "\n",
    "def _A_visc_dissolved (volume_dissolved_prived):\n",
    "    A_visc_dissolved = 1 + 0.0129*volume_dissolved_prived - 0.0364*volume_dissolved_prived**0.85\n",
    "    return round(A_visc_dissolved,4)\n",
    "\n",
    "def _B_visc_dissolved (volume_dissolved_prived):\n",
    "    B_visc_dissolved = 1 + 0.0017*volume_dissolved_prived - 0.0228*volume_dissolved_prived**0.667\n",
    "    return round(B_visc_dissolved, 4)\n",
    "\n",
    "#приведенный объём газа растворенного в нефти к стандартным условиям\n",
    "def _volume_dissolved_prived (volume_dissolved_gas, density_oil_without_gas, alpha_n):\n",
    "    volume_dissolved_prived = 1.055*10**-3*(1+5*alpha_n)*volume_dissolved_gas*density_oil_without_gas\n",
    "    return round(volume_dissolved_prived,3)"
   ]
  },
  {
   "cell_type": "code",
   "execution_count": 38,
   "metadata": {},
   "outputs": [],
   "source": [
    "#11 рассчёт повернхностного натяжения\n",
    "\n",
    "def _sigma_oil_gas(p,T):\n",
    "    sigma_oil_gas = (1/10)**(1.58+0.05*p) - 72*10**-6*(T-305)\n",
    "    return round(sigma_oil_gas, 4)"
   ]
  },
  {
   "cell_type": "code",
   "execution_count": null,
   "metadata": {},
   "outputs": [],
   "source": []
  },
  {
   "cell_type": "code",
   "execution_count": null,
   "metadata": {},
   "outputs": [],
   "source": []
  }
 ],
 "metadata": {
  "kernelspec": {
   "display_name": "Python 3",
   "language": "python",
   "name": "python3"
  },
  "language_info": {
   "codemirror_mode": {
    "name": "ipython",
    "version": 3
   },
   "file_extension": ".py",
   "mimetype": "text/x-python",
   "name": "python",
   "nbconvert_exporter": "python",
   "pygments_lexer": "ipython3",
   "version": "3.7.5"
  }
 },
 "nbformat": 4,
 "nbformat_minor": 2
}
